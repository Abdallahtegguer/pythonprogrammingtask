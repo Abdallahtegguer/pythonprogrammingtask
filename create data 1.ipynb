{
 "cells": [
  {
   "cell_type": "markdown",
   "id": "4d16e3fa",
   "metadata": {},
   "source": [
    "this file is used to create the data base and the tables and upload the data recrds to the corresponding tables"
   ]
  },
  {
   "cell_type": "code",
   "execution_count": 1,
   "id": "003caecd-2f39-481c-be13-058db5b4e5b3",
   "metadata": {},
   "outputs": [],
   "source": [
    "import pandas as pd\n",
    "import numpy as np\n"
   ]
  },
  {
   "cell_type": "code",
   "execution_count": 2,
   "id": "37fab333-fcc7-4b8d-af0f-a9194f48e6c5",
   "metadata": {},
   "outputs": [],
   "source": [
    "data_tr= pd.read_csv(\"train.csv\")\n",
    "data_te= pd.read_csv(\"test.csv\")\n",
    "data_id= pd.read_csv(\"ideal.csv\")"
   ]
  },
  {
   "cell_type": "code",
   "execution_count": 3,
   "id": "2f7a295f-ae3d-491b-92b5-c325bd6c9247",
   "metadata": {},
   "outputs": [],
   "source": [
    "df_tr=pd.DataFrame(data_tr)\n",
    "df_te=pd.DataFrame(data_te)\n",
    "df_id=pd.DataFrame(data_id)"
   ]
  },
  {
   "cell_type": "code",
   "execution_count": 10,
   "id": "48d17f54-a353-43c4-b3f2-28a33c858ec7",
   "metadata": {},
   "outputs": [
    {
     "name": "stdout",
     "output_type": "stream",
     "text": [
      "Requirement already satisfied: SQLAlchemy in /Users/mac/opt/anaconda3/lib/python3.9/site-packages (1.4.39)\n",
      "Requirement already satisfied: greenlet!=0.4.17 in /Users/mac/opt/anaconda3/lib/python3.9/site-packages (from SQLAlchemy) (1.1.1)\n",
      "Note: you may need to restart the kernel to use updated packages.\n"
     ]
    }
   ],
   "source": [
    "pip install SQLAlchemy"
   ]
  },
  {
   "cell_type": "code",
   "execution_count": 11,
   "id": "db047010-b115-4a89-a473-7a9f9c5fc358",
   "metadata": {},
   "outputs": [
    {
     "name": "stdout",
     "output_type": "stream",
     "text": [
      "Collecting pymysql\n",
      "  Downloading PyMySQL-1.1.0-py3-none-any.whl.metadata (4.4 kB)\n",
      "Downloading PyMySQL-1.1.0-py3-none-any.whl (44 kB)\n",
      "\u001b[2K   \u001b[90m━━━━━━━━━━━━━━━━━━━━━━━━━━━━━━━━━━━━━━━━\u001b[0m \u001b[32m44.8/44.8 kB\u001b[0m \u001b[31m374.4 kB/s\u001b[0m eta \u001b[36m0:00:00\u001b[0ma \u001b[36m0:00:01\u001b[0m\n",
      "\u001b[?25hInstalling collected packages: pymysql\n",
      "Successfully installed pymysql-1.1.0\n",
      "Note: you may need to restart the kernel to use updated packages.\n"
     ]
    }
   ],
   "source": [
    "pip install pymysql"
   ]
  },
  {
   "cell_type": "code",
   "execution_count": 12,
   "id": "7210b323-2e84-4c78-95e1-f84111a45e17",
   "metadata": {},
   "outputs": [],
   "source": [
    "import sqlalchemy as db\n",
    "import pymysql\n"
   ]
  },
  {
   "cell_type": "code",
   "execution_count": 21,
   "id": "572424eb-0b30-47ff-a040-35885334a805",
   "metadata": {},
   "outputs": [],
   "source": []
  },
  {
   "cell_type": "code",
   "execution_count": 2,
   "id": "bd324dde-eff7-47bd-934c-a59e5a527a80",
   "metadata": {},
   "outputs": [
    {
     "name": "stdout",
     "output_type": "stream",
     "text": [
      "Data has been loaded into the database.\n"
     ]
    }
   ],
   "source": [
    "import pandas as pd\n",
    "from sqlalchemy import create_engine, Table, Column, Float, MetaData\n",
    "\n",
    "# Create an engine to the SQLite database\n",
    "engine = create_engine('sqlite:///my_data.db')\n",
    "metadata = MetaData()\n",
    "\n",
    "# Define Table 1 for training data\n",
    "training_data = Table('training_data', metadata,\n",
    "                      Column('X', Float, primary_key=True),\n",
    "                      Column('Y1', Float),\n",
    "                      Column('Y2', Float),\n",
    "                      Column('Y3', Float),\n",
    "                      Column('Y4', Float))\n",
    "\n",
    "# Define Table 2 for ideal functions\n",
    "columns = [Column('X', Float, primary_key=True)] + [Column(f'Y{i}', Float) for i in range(1, 51)]\n",
    "ideal_functions = Table('ideal_functions', metadata, *columns)\n",
    "\n",
    "# Create both tables in the database\n",
    "metadata.create_all(engine)\n",
    "\n",
    "def load_data_to_table(data_file, table):\n",
    "    # Load data using pandas\n",
    "    data_df = pd.read_csv(data_file)\n",
    "    # Insert data into the table using pandas and sqlalchemy\n",
    "    data_df.to_sql(table.name, con=engine, if_exists='replace', index=False)\n",
    "\n",
    "# Loading training data and ideal functions into their respective tables\n",
    "load_data_to_table('train.csv', training_data)\n",
    "load_data_to_table('ideal.csv', ideal_functions)\n",
    "\n",
    "print(\"Data has been loaded into the database.\")"
   ]
  },
  {
   "cell_type": "code",
   "execution_count": 3,
   "id": "393a6911-88d0-41f3-9c01-207042dbe2b4",
   "metadata": {},
   "outputs": [
    {
     "name": "stdout",
     "output_type": "stream",
     "text": [
      "Existing tables in the database: ['ideal_functions', 'training_data']\n"
     ]
    },
    {
     "name": "stderr",
     "output_type": "stream",
     "text": [
      "/var/folders/6r/8dtcw8lx5cgb3mtrmcwfylyw0000gn/T/ipykernel_1501/2900765621.py:1: SADeprecationWarning: The Engine.table_names() method is deprecated and will be removed in a future release.  Please refer to Inspector.get_table_names(). (deprecated since: 1.4)\n",
      "  existing_tables = engine.table_names()\n"
     ]
    }
   ],
   "source": [
    "existing_tables = engine.table_names()\n",
    "print(\"Existing tables in the database:\", existing_tables)"
   ]
  },
  {
   "cell_type": "code",
   "execution_count": null,
   "id": "0c31744d-a75f-4609-b0f9-231c44452d5e",
   "metadata": {},
   "outputs": [],
   "source": []
  }
 ],
 "metadata": {
  "kernelspec": {
   "display_name": "Python 3 (ipykernel)",
   "language": "python",
   "name": "python3"
  },
  "language_info": {
   "codemirror_mode": {
    "name": "ipython",
    "version": 3
   },
   "file_extension": ".py",
   "mimetype": "text/x-python",
   "name": "python",
   "nbconvert_exporter": "python",
   "pygments_lexer": "ipython3",
   "version": "3.9.13"
  }
 },
 "nbformat": 4,
 "nbformat_minor": 5
}
