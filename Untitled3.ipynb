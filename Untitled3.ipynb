{
 "cells": [
  {
   "cell_type": "code",
   "execution_count": 1,
   "id": "d07a3b65-7ff1-46ff-9e90-ce62edb8dba4",
   "metadata": {},
   "outputs": [
    {
     "name": "stdout",
     "output_type": "stream",
     "text": [
      "Table creation completed. Check the existing tables:\n",
      "['ideal_functions', 'test_data', 'training_data']\n"
     ]
    },
    {
     "name": "stderr",
     "output_type": "stream",
     "text": [
      "/var/folders/6r/8dtcw8lx5cgb3mtrmcwfylyw0000gn/T/ipykernel_1585/1433747265.py:17: SADeprecationWarning: The Engine.table_names() method is deprecated and will be removed in a future release.  Please refer to Inspector.get_table_names(). (deprecated since: 1.4)\n",
      "  print(engine.table_names())  # This will now list 'test_data' along with others\n"
     ]
    }
   ],
   "source": [
    "from sqlalchemy import create_engine, Column, Float, MetaData, Table\n",
    "\n",
    "# Assuming you already have an engine created\n",
    "engine = create_engine('sqlite:///my_data.db')\n",
    "metadata = MetaData(bind=engine)\n",
    "\n",
    "# Define the test_data table\n",
    "test_data = Table('test_data', metadata,\n",
    "                  Column('X', Float, primary_key=True),\n",
    "                  Column('Y', Float)\n",
    "                 )\n",
    "\n",
    "# Create the table in the database\n",
    "metadata.create_all(engine)\n",
    "\n",
    "print(\"Table creation completed. Check the existing tables:\")\n",
    "print(engine.table_names())  # This will now list 'test_data' along with others\n"
   ]
  },
  {
   "cell_type": "code",
   "execution_count": 2,
   "id": "10f8eacf-70ba-4f08-8a06-012fd0ae1a92",
   "metadata": {},
   "outputs": [],
   "source": [
    "import pandas as pd\n",
    "\n",
    "def load_data_to_table(filepath, table_name, engine):\n",
    "    data = pd.read_csv(filepath)\n",
    "    data.to_sql(table_name, con=engine, if_exists='replace', index=False)\n",
    "\n",
    "# Call this function with the path to your test data CSV file\n",
    "load_data_to_table('test.csv', 'test_data', engine)\n"
   ]
  },
  {
   "cell_type": "code",
   "execution_count": 6,
   "id": "de981ac2-9c8b-4d71-9536-ab9b5e29c90f",
   "metadata": {},
   "outputs": [
    {
     "name": "stdout",
     "output_type": "stream",
     "text": [
      "(17.5, 34.16104)\n",
      "(0.3, 1.2151024)\n",
      "(-8.7, -16.843908)\n",
      "(-19.2, -37.17087)\n",
      "(-11.0, -20.263054)\n"
     ]
    }
   ],
   "source": [
    "# Function to fetch and print some data from the table\n",
    "def verify_data(table_name, engine):\n",
    "    with engine.connect() as connection:\n",
    "        result = connection.execute(f\"SELECT * FROM {table_name} LIMIT 5\")\n",
    "        for row in result:\n",
    "            print(row)\n",
    "\n",
    "# Verify the data in 'test_data'\n",
    "verify_data('test_data', engine)\n"
   ]
  },
  {
   "cell_type": "code",
   "execution_count": null,
   "id": "61dddbfa-fcc9-4d8f-b5ca-c79ea996d745",
   "metadata": {},
   "outputs": [],
   "source": []
  }
 ],
 "metadata": {
  "kernelspec": {
   "display_name": "Python 3 (ipykernel)",
   "language": "python",
   "name": "python3"
  },
  "language_info": {
   "codemirror_mode": {
    "name": "ipython",
    "version": 3
   },
   "file_extension": ".py",
   "mimetype": "text/x-python",
   "name": "python",
   "nbconvert_exporter": "python",
   "pygments_lexer": "ipython3",
   "version": "3.9.13"
  }
 },
 "nbformat": 4,
 "nbformat_minor": 5
}
